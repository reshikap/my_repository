{
 "cells": [
  {
   "cell_type": "code",
   "execution_count": 5,
   "metadata": {},
   "outputs": [
    {
     "name": "stdout",
     "output_type": "stream",
     "text": [
      "Hello World\n"
     ]
    }
   ],
   "source": [
    "def greet():\n",
    "    print(\"Hello World\")\n",
    "\n",
    "greet()"
   ]
  },
  {
   "cell_type": "markdown",
   "metadata": {},
   "source": [
    "Function: A function is a set of statements that take inputs, do some specific computation and produces output.\n",
    "The idea is to put some commonly or repeatedly done task together and make a function, \n",
    "so that instead of writing the same code again and again for different inputs, we can call the function."
   ]
  },
  {
   "cell_type": "code",
   "execution_count": 3,
   "metadata": {},
   "outputs": [
    {
     "name": "stdout",
     "output_type": "stream",
     "text": [
      "Hello World\n",
      "Hello World\n",
      "Hello World\n",
      "Hello World\n"
     ]
    }
   ],
   "source": [
    "greet()\n",
    "greet()\n",
    "greet()\n",
    "greet()"
   ]
  },
  {
   "cell_type": "markdown",
   "metadata": {},
   "source": [
    "Return statement:  A return statement is used to end the execution of the function call and “returns” the result \n",
    "(value of the expression following the return keyword) to the caller.\n",
    "The statements after the return statements are not executed."
   ]
  },
  {
   "cell_type": "code",
   "execution_count": 7,
   "metadata": {},
   "outputs": [
    {
     "name": "stdout",
     "output_type": "stream",
     "text": [
      "Hello World\n"
     ]
    },
    {
     "data": {
      "text/plain": [
       "'!!!'"
      ]
     },
     "execution_count": 7,
     "metadata": {},
     "output_type": "execute_result"
    }
   ],
   "source": [
    "def greet():\n",
    "    print(\"Hello World\")\n",
    "    return(\"!!!\")\n",
    "\n",
    "greet()"
   ]
  },
  {
   "cell_type": "code",
   "execution_count": 18,
   "metadata": {},
   "outputs": [
    {
     "name": "stdout",
     "output_type": "stream",
     "text": [
      "Hello World\n",
      "!!!\n"
     ]
    }
   ],
   "source": [
    "def greet():\n",
    "    print(\"Hello World\")\n",
    "    return(\"!!!\")\n",
    "\n",
    "\n",
    "a=greet()\n",
    "print(a)"
   ]
  },
  {
   "cell_type": "code",
   "execution_count": 19,
   "metadata": {},
   "outputs": [
    {
     "name": "stdout",
     "output_type": "stream",
     "text": [
      "Hello World\n",
      "Hello World\n",
      "Hello World\n",
      "Hello World\n",
      "Hello World\n"
     ]
    }
   ],
   "source": [
    "def greet(n):\n",
    "    '''Prints hello world n times'''\n",
    "    i=0\n",
    "    while(i<n):\n",
    "        print(\"Hello World\")\n",
    "        i=i+1\n",
    "        \n",
    "greet(5)"
   ]
  },
  {
   "cell_type": "code",
   "execution_count": 23,
   "metadata": {},
   "outputs": [
    {
     "name": "stdout",
     "output_type": "stream",
     "text": [
      "Hello World\n",
      "Hello World\n",
      "Hello World\n",
      "Hello World\n",
      "None\n"
     ]
    }
   ],
   "source": [
    "def greet(n):\n",
    "    '''Prints hello world n times'''\n",
    "    i=0\n",
    "    while(i<n):\n",
    "        print(\"Hello World\")\n",
    "        i=i+1\n",
    "        \n",
    "a=greet(4)\n",
    "print(a)\n",
    "\n"
   ]
  },
  {
   "cell_type": "code",
   "execution_count": 31,
   "metadata": {},
   "outputs": [
    {
     "name": "stdout",
     "output_type": "stream",
     "text": [
      "Hello World\n",
      "Hello World\n",
      "Hello World\n",
      "Hello World\n",
      "***\n"
     ]
    }
   ],
   "source": [
    "def greet(n):\n",
    "    '''Prints hello world n times'''\n",
    "    i=0\n",
    "    while(i<n):\n",
    "        print(\"Hello World\")\n",
    "        i=i+1\n",
    "    return('***')\n",
    "    print(\"a\")\n",
    "    '''it doesn't print anything after the return statement'''\n",
    "        \n",
    "a=greet(4)\n",
    "print(a)"
   ]
  },
  {
   "cell_type": "markdown",
   "metadata": {},
   "source": [
    "PARAMETERS PASSING"
   ]
  },
  {
   "cell_type": "markdown",
   "metadata": {},
   "source": [
    "When a function gets executed in the program, the execution control is transferred from calling-function to called function \n",
    "and executes function definition, and finally comes back to the calling function.\n",
    "These data values are called as parameters."
   ]
  },
  {
   "cell_type": "markdown",
   "metadata": {},
   "source": [
    "POSITIONAL PARAMETERS"
   ]
  },
  {
   "cell_type": "code",
   "execution_count": 3,
   "metadata": {},
   "outputs": [
    {
     "name": "stdout",
     "output_type": "stream",
     "text": [
      "Total= 90\n"
     ]
    }
   ],
   "source": [
    "def sumnums(n1,n2,n3):\n",
    "    sum=n1+n2+n3\n",
    "    return sum\n",
    "\n",
    "tot=sumnums(20,30,40)\n",
    "print(\"Total=\",tot)"
   ]
  },
  {
   "cell_type": "code",
   "execution_count": 32,
   "metadata": {},
   "outputs": [
    {
     "name": "stdout",
     "output_type": "stream",
     "text": [
      "total= 120\n"
     ]
    }
   ],
   "source": [
    "#the values can also be given in the called function\n",
    "def sumnums(n1,n2=20,n3=50):\n",
    "    sum=n1+n2+n3\n",
    "    return sum\n",
    "\n",
    "tot=sumnums(30,40)\n",
    "print(\"total=\",tot)"
   ]
  },
  {
   "cell_type": "markdown",
   "metadata": {},
   "source": [
    "VARIABLE NUMBER OF PARAMETERS"
   ]
  },
  {
   "cell_type": "code",
   "execution_count": 23,
   "metadata": {},
   "outputs": [
    {
     "name": "stdout",
     "output_type": "stream",
     "text": [
      "total= 150\n"
     ]
    }
   ],
   "source": [
    "def varargs(*args):\n",
    "    sum=0\n",
    "    for n in args:\n",
    "        sum=sum+n\n",
    "    return sum\n",
    "    \n",
    "tot=varargs(10,30,50,20,40)\n",
    "print(\"total=\",tot)"
   ]
  },
  {
   "cell_type": "code",
   "execution_count": 9,
   "metadata": {},
   "outputs": [
    {
     "name": "stdout",
     "output_type": "stream",
     "text": [
      "Totals list= [6, 20, -4, -8]\n"
     ]
    }
   ],
   "source": [
    "#appending the sum of values into a list\n",
    "def sumvarargs(*args):\n",
    "    sumlist=[]\n",
    "    for n in args:\n",
    "        sum=0\n",
    "        for i in n:\n",
    "            sum=sum+i\n",
    "        sumlist.append(sum)\n",
    "    return sumlist\n",
    "     \n",
    "totlist=sumvarargs([1,2,3],[6,3,2,9],[-10,3,2,1],[-6,-2])\n",
    "print(\"Totals list=\",totlist)"
   ]
  },
  {
   "cell_type": "markdown",
   "metadata": {},
   "source": [
    "NAMED PARAMETERS"
   ]
  },
  {
   "cell_type": "code",
   "execution_count": 7,
   "metadata": {},
   "outputs": [
    {
     "name": "stdout",
     "output_type": "stream",
     "text": [
      "apples 100\n",
      "oranges 400\n",
      "grapes 200\n",
      "banana 600\n",
      "Total Fruits= 1300\n"
     ]
    }
   ],
   "source": [
    "def fruitbasket(**kwargs):\n",
    "    count=0\n",
    "    for fruit,cnt in kwargs.items():\n",
    "        print(fruit,cnt)\n",
    "        count=count+cnt\n",
    "    return(count)\n",
    "    \n",
    "tot=fruitbasket(apples=100,oranges=400,grapes=200,banana=600)\n",
    "print(\"Total Fruits=\",tot)"
   ]
  },
  {
   "cell_type": "code",
   "execution_count": 25,
   "metadata": {},
   "outputs": [
    {
     "name": "stdout",
     "output_type": "stream",
     "text": [
      "apples                               100\n",
      "oranges                              400\n",
      "grapes                               200\n",
      "banana                               600\n",
      "----------------------------------------\n",
      "Total Fruits:                       1300\n"
     ]
    }
   ],
   "source": [
    "# to format the output of the above program\n",
    "def fruitbasket(**kwargs):\n",
    "    count=0\n",
    "    for fruit,cnt in kwargs.items():\n",
    "        PrintString=\"{:30}{:10}\".format(fruit,cnt)\n",
    "        print(PrintString)\n",
    "        count=count+cnt\n",
    "    return(count)\n",
    "    \n",
    "tot=fruitbasket(apples=100,oranges=400,grapes=200,banana=600)\n",
    "print(\"-\"*40)\n",
    "print(\"{:30}{:10}\".format(\"Total Fruits:\",tot))"
   ]
  },
  {
   "cell_type": "markdown",
   "metadata": {},
   "source": [
    "*args:  The special syntax *args in function definitions in python is used to pass \n",
    "a variable number of arguments to a function.\n",
    "It is used to pass a non-keyworded, variable-length argument list.\n",
    "The syntax is to use the symbol * to take in a variable number of arguments;\n",
    "by convention, it is often used with the word args.\n",
    "\n",
    "\n",
    "**kwargs:  The special syntax **kwargs in function definitions in python is used to pass\n",
    "a keyworded, variable-length argument list. We use the name kwargs with the double star. \n",
    "The reason is because the double star allows us to pass through keyword arguments (and any number of them).\n",
    "One can think of the kwargs as being a dictionary that maps each keyword to the value that we pass alongside it. \n",
    "That is why when we iterate over the kwargs there doesn’t seem to be any order in which they were printed out."
   ]
  },
  {
   "cell_type": "markdown",
   "metadata": {},
   "source": [
    "PASSING MIXED PARAMETERS"
   ]
  },
  {
   "cell_type": "code",
   "execution_count": 31,
   "metadata": {},
   "outputs": [
    {
     "name": "stdout",
     "output_type": "stream",
     "text": [
      "[80, 267, 900]\n"
     ]
    }
   ],
   "source": [
    "#here we use positional,variable and named arguments\n",
    "def myFunc(n1,n2,n3,*args,**kwargs):\n",
    "    sum1=sum2=sum3=0\n",
    "    sum1=n1+n2+n3\n",
    "    for n in args:\n",
    "        sum2=sum2+n\n",
    "    for k,v in kwargs.items():\n",
    "        sum3=sum3+v\n",
    "        \n",
    "    total=[sum1,sum2,sum3]\n",
    "    return total\n",
    "    \n",
    "sums=myFunc(10,30,40,22,70,86,23,66,apples=300,grapes=500,oranges=100)\n",
    "print(sums)"
   ]
  },
  {
   "cell_type": "markdown",
   "metadata": {},
   "source": [
    "LAMBDA FUNCTIONS"
   ]
  },
  {
   "cell_type": "markdown",
   "metadata": {},
   "source": [
    "what is a lambda function: \n",
    "                    In Python, we use the lambda keyword to declare an anonymous function, which is why we refer to\n",
    "them as \"lambda functions\". \n",
    "An anonymous function refers to a function declared with no name.\n",
    "A lambda function can take any number of arguments, but they contain only a single expression.\n"
   ]
  },
  {
   "cell_type": "markdown",
   "metadata": {},
   "source": [
    "what is the use of lambda function: \n",
    "                We use lambda functions when we require a nameless function for a short period \n",
    "of time. In Python, we generally use it as an argument to a higher-order function (a function that takes in other\n",
    "functions as arguments). Lambda functions are used along with built-in functions like filter() , map() etc.\n"
   ]
  },
  {
   "cell_type": "markdown",
   "metadata": {},
   "source": [
    "syntax: \n",
    "    lambda argument list: expression"
   ]
  },
  {
   "cell_type": "code",
   "execution_count": 1,
   "metadata": {},
   "outputs": [
    {
     "name": "stdout",
     "output_type": "stream",
     "text": [
      "25\n"
     ]
    }
   ],
   "source": [
    "def power2(x):\n",
    "    return x**2\n",
    "\n",
    "a=power2(5)\n",
    "print(a)"
   ]
  },
  {
   "cell_type": "code",
   "execution_count": 2,
   "metadata": {},
   "outputs": [
    {
     "data": {
      "text/plain": [
       "25"
      ]
     },
     "execution_count": 2,
     "metadata": {},
     "output_type": "execute_result"
    }
   ],
   "source": [
    "#Using lambda function\n",
    "sq=lambda x:x**2\n",
    "sq(5)\n"
   ]
  },
  {
   "cell_type": "code",
   "execution_count": 3,
   "metadata": {},
   "outputs": [
    {
     "data": {
      "text/plain": [
       "function"
      ]
     },
     "execution_count": 3,
     "metadata": {},
     "output_type": "execute_result"
    }
   ],
   "source": [
    "type(sq)"
   ]
  },
  {
   "cell_type": "code",
   "execution_count": 4,
   "metadata": {},
   "outputs": [
    {
     "data": {
      "text/plain": [
       "10"
      ]
     },
     "execution_count": 4,
     "metadata": {},
     "output_type": "execute_result"
    }
   ],
   "source": [
    "#finding the sum of three arguments\n",
    "sum=lambda x,y,z:x+y+z\n",
    "sum(1,3,6)"
   ]
  },
  {
   "cell_type": "code",
   "execution_count": 5,
   "metadata": {},
   "outputs": [
    {
     "data": {
      "text/plain": [
       "True"
      ]
     },
     "execution_count": 5,
     "metadata": {},
     "output_type": "execute_result"
    }
   ],
   "source": [
    "#finding of it is true or even\n",
    "iseven=lambda x:x%2==0\n",
    "iseven(10)"
   ]
  },
  {
   "cell_type": "code",
   "execution_count": 6,
   "metadata": {},
   "outputs": [
    {
     "data": {
      "text/plain": [
       "False"
      ]
     },
     "execution_count": 6,
     "metadata": {},
     "output_type": "execute_result"
    }
   ],
   "source": [
    "iseven(13)"
   ]
  },
  {
   "cell_type": "code",
   "execution_count": 7,
   "metadata": {},
   "outputs": [
    {
     "data": {
      "text/plain": [
       "22"
      ]
     },
     "execution_count": 7,
     "metadata": {},
     "output_type": "execute_result"
    }
   ],
   "source": [
    "#if it is even, add 2 and if it is odd, add 1\n",
    "func=lambda x:x+2 if x%2==0 else x+1\n",
    "func(20)"
   ]
  },
  {
   "cell_type": "code",
   "execution_count": 8,
   "metadata": {},
   "outputs": [
    {
     "data": {
      "text/plain": [
       "8"
      ]
     },
     "execution_count": 8,
     "metadata": {},
     "output_type": "execute_result"
    }
   ],
   "source": [
    "func(7)"
   ]
  },
  {
   "cell_type": "code",
   "execution_count": 12,
   "metadata": {},
   "outputs": [],
   "source": [
    "#Passing heterogenous arguments to the list\n",
    "A=[1,2,3,'Apple',lambda n:n*4]"
   ]
  },
  {
   "cell_type": "code",
   "execution_count": 13,
   "metadata": {},
   "outputs": [
    {
     "data": {
      "text/plain": [
       "40"
      ]
     },
     "execution_count": 13,
     "metadata": {},
     "output_type": "execute_result"
    }
   ],
   "source": [
    "#Accessing the list\n",
    "A[4](10)"
   ]
  },
  {
   "cell_type": "markdown",
   "metadata": {},
   "source": [
    "                    MAP METHOD\n",
    "\n",
    "map():  \n",
    "        map() function returns a map object(which is an iterator) of the results after applying the \n",
    "given function to each item of a given iterable (list, tuple etc.)\n",
    "\n",
    "Syntax: map(fun,iter)\n",
    "  \n",
    "Parameters:\n",
    "    \n",
    "fun : It is a function to which map passes each element of given iterable.\n",
    "    \n",
    "iter : It is a iterable which is to be mapped.\n",
    "    \n",
    "Returns:\n",
    "    \n",
    "Returns a list of the results after applying the given function  \n",
    "to each item of a given iterable (list, tuple etc.) "
   ]
  },
  {
   "cell_type": "code",
   "execution_count": 2,
   "metadata": {},
   "outputs": [
    {
     "data": {
      "text/plain": [
       "[1, 4, 9, 16, 25, 36, 49, 64, 81, 100]"
      ]
     },
     "execution_count": 2,
     "metadata": {},
     "output_type": "execute_result"
    }
   ],
   "source": [
    "C=[1,2,3,4,5,6,7,8,9,10]\n",
    "fn=lambda x:x**2\n",
    "list(map(fn,C))"
   ]
  },
  {
   "cell_type": "code",
   "execution_count": 4,
   "metadata": {},
   "outputs": [
    {
     "data": {
      "text/plain": [
       "function"
      ]
     },
     "execution_count": 4,
     "metadata": {},
     "output_type": "execute_result"
    }
   ],
   "source": [
    "#Add 2 if even or else add 1\n",
    "add=lambda x:x+2 if x%2==0 else x+1\n",
    "type(add)"
   ]
  },
  {
   "cell_type": "code",
   "execution_count": 5,
   "metadata": {},
   "outputs": [
    {
     "data": {
      "text/plain": [
       "<map at 0x296ddb10608>"
      ]
     },
     "execution_count": 5,
     "metadata": {},
     "output_type": "execute_result"
    }
   ],
   "source": [
    "#Add 2 if even or else add 1\n",
    "add=lambda x:x+2 if x%2==0 else x+1\n",
    "map(add,C)"
   ]
  },
  {
   "cell_type": "code",
   "execution_count": 8,
   "metadata": {},
   "outputs": [
    {
     "data": {
      "text/plain": [
       "[2, 4, 4, 6, 6, 8, 8, 10, 10, 12]"
      ]
     },
     "execution_count": 8,
     "metadata": {},
     "output_type": "execute_result"
    }
   ],
   "source": [
    "#Add 2 if even or else add 1\n",
    "add=lambda x:x+2 if x%2==0 else x+1\n",
    "list(map(add,C))"
   ]
  },
  {
   "cell_type": "code",
   "execution_count": 9,
   "metadata": {},
   "outputs": [
    {
     "data": {
      "text/plain": [
       "(2, 4, 4, 6, 6, 8, 8, 10, 10, 12)"
      ]
     },
     "execution_count": 9,
     "metadata": {},
     "output_type": "execute_result"
    }
   ],
   "source": [
    "#To display the above program as a tuple\n",
    "add=lambda x:x+2 if x%2==0 else x+1\n",
    "tuple(map(add,C))"
   ]
  },
  {
   "cell_type": "code",
   "execution_count": 13,
   "metadata": {},
   "outputs": [
    {
     "data": {
      "text/plain": [
       "['H', 'E', 'L', 'L', 'O']"
      ]
     },
     "execution_count": 13,
     "metadata": {},
     "output_type": "execute_result"
    }
   ],
   "source": [
    "#to convert the string to upper case using map function\n",
    "str='hello'\n",
    "upper_case=lambda x:x.upper()\n",
    "list(map(upper_case,str))"
   ]
  },
  {
   "cell_type": "code",
   "execution_count": 15,
   "metadata": {},
   "outputs": [
    {
     "data": {
      "text/plain": [
       "{'E', 'H', 'L', 'O'}"
      ]
     },
     "execution_count": 15,
     "metadata": {},
     "output_type": "execute_result"
    }
   ],
   "source": [
    "#to display as set object\n",
    "str='hello'\n",
    "upper_case=lambda x:x.upper()\n",
    "set(map(upper_case,str))"
   ]
  },
  {
   "cell_type": "code",
   "execution_count": 16,
   "metadata": {},
   "outputs": [
    {
     "data": {
      "text/plain": [
       "['I', 'AM', 'LEARNING', 'PYTHON']"
      ]
     },
     "execution_count": 16,
     "metadata": {},
     "output_type": "execute_result"
    }
   ],
   "source": [
    "#Using split function\n",
    "a='I am learning Python'.split()\n",
    "split=lambda x:x.upper()\n",
    "list(map(split,a))"
   ]
  },
  {
   "cell_type": "code",
   "execution_count": 19,
   "metadata": {},
   "outputs": [
    {
     "data": {
      "text/plain": [
       "[1, 2, 8, 6]"
      ]
     },
     "execution_count": 19,
     "metadata": {},
     "output_type": "execute_result"
    }
   ],
   "source": [
    "#To find the length of each string\n",
    "a='I am learning Python'.split()\n",
    "length=lambda s:len(s)\n",
    "list(map(length,a))"
   ]
  },
  {
   "cell_type": "code",
   "execution_count": 20,
   "metadata": {},
   "outputs": [
    {
     "data": {
      "text/plain": [
       "[5, 24, 45]"
      ]
     },
     "execution_count": 20,
     "metadata": {},
     "output_type": "execute_result"
    }
   ],
   "source": [
    "#Multiple containers also can be passed to map function\n",
    "x=[1,4,5]\n",
    "y=[5,6,9]\n",
    "mul=lambda a,b:a*b\n",
    "list(map(mul,x,y))"
   ]
  },
  {
   "cell_type": "code",
   "execution_count": 21,
   "metadata": {},
   "outputs": [
    {
     "data": {
      "text/plain": [
       "[1, 2, 3, 4, 5, 6, 7, 8, 9, 10]"
      ]
     },
     "execution_count": 21,
     "metadata": {},
     "output_type": "execute_result"
    }
   ],
   "source": [
    "C"
   ]
  },
  {
   "cell_type": "code",
   "execution_count": 22,
   "metadata": {},
   "outputs": [
    {
     "data": {
      "text/plain": [
       "[2, 4, 6, 8, 10, 12, 14, 16, 18, 20]"
      ]
     },
     "execution_count": 22,
     "metadata": {},
     "output_type": "execute_result"
    }
   ],
   "source": [
    "#Double the numbers in the container using map and lambda\n",
    "double=lambda x:x+x\n",
    "list(map(double,C))"
   ]
  },
  {
   "cell_type": "code",
   "execution_count": 26,
   "metadata": {},
   "outputs": [
    {
     "data": {
      "text/plain": [
       "[['s', 'a', 't'], ['b', 'a', 't'], ['m', 'a', 't'], ['c', 'a', 't']]"
      ]
     },
     "execution_count": 26,
     "metadata": {},
     "output_type": "execute_result"
    }
   ],
   "source": [
    "#list of strings individually using map function\n",
    "l=['sat','bat','mat','cat']\n",
    "list(map(list,l))"
   ]
  },
  {
   "cell_type": "code",
   "execution_count": 27,
   "metadata": {},
   "outputs": [
    {
     "data": {
      "text/plain": [
       "[('s', 'a', 't'), ('b', 'a', 't'), ('m', 'a', 't'), ('c', 'a', 't')]"
      ]
     },
     "execution_count": 27,
     "metadata": {},
     "output_type": "execute_result"
    }
   ],
   "source": [
    "#list of strings individually using map function\n",
    "l=['sat','bat','mat','cat']\n",
    "list(map(tuple,l))"
   ]
  },
  {
   "cell_type": "markdown",
   "metadata": {},
   "source": [
    "                    REDUCE METHOD\n",
    "\n",
    "reduce():\n",
    "    The reduce(fun,seq) function is used to apply a particular function passed in its argument to all of the list \n",
    "elements mentioned in the sequence passed along. This function is defined in “functools” module.\n",
    "    \n",
    "Syntax: reduce(function,seq)\n",
    "    \n",
    "Working : \n",
    "\n",
    "*At first step, first two elements of sequence are picked and the result is obtained.\n",
    "\n",
    "*Next step is to apply the same function to the previously attained result and the number just succeeding the \n",
    "second element and the result is again stored.\n",
    "\n",
    "*This process continues till no more elements are left in the container.\n",
    "\n",
    "*The final returned result is returned and printed on console."
   ]
  },
  {
   "cell_type": "code",
   "execution_count": 31,
   "metadata": {},
   "outputs": [
    {
     "data": {
      "text/plain": [
       "65"
      ]
     },
     "execution_count": 31,
     "metadata": {},
     "output_type": "execute_result"
    }
   ],
   "source": [
    "import functools\n",
    "a=[10,20,2,3,30]\n",
    "add=lambda x,y:x+y\n",
    "functools.reduce(add,a)"
   ]
  },
  {
   "cell_type": "code",
   "execution_count": 32,
   "metadata": {},
   "outputs": [
    {
     "data": {
      "text/plain": [
       "50"
      ]
     },
     "execution_count": 32,
     "metadata": {},
     "output_type": "execute_result"
    }
   ],
   "source": [
    "a=[2,6,9,12,28,50]\n",
    "greater_number=lambda x,y: x if x>y else y\n",
    "functools.reduce(greater_number,a)"
   ]
  },
  {
   "cell_type": "markdown",
   "metadata": {},
   "source": [
    "            REDUCE() VS ACCUMULATE()\n",
    "\n",
    "Both reduce() and accumulate() can be used to calculate the summation of a sequence elements. \n",
    "But there are differences in the implementation aspects in both of these.\n",
    "\n",
    "*reduce() is defined in “functools” module, accumulate() in “itertools” module.\n",
    "\n",
    "*reduce() stores the intermediate result and only returns the final summation value. \n",
    "Whereas, accumulate() returns a iterator containing the intermediate results. The last number of the iterator \n",
    "returned is summation value of the list.\n",
    "\n",
    "*reduce(fun,seq) takes function as 1st and sequence as 2nd argument. \n",
    "In contrast accumulate(seq,fun) takes sequence as 1st argument and function as 2nd argument."
   ]
  },
  {
   "cell_type": "code",
   "execution_count": 35,
   "metadata": {},
   "outputs": [
    {
     "data": {
      "text/plain": [
       "43"
      ]
     },
     "execution_count": 35,
     "metadata": {},
     "output_type": "execute_result"
    }
   ],
   "source": [
    "#addition program using reduce function\n",
    "import functools\n",
    "numbers=[1,5,7,10,20]\n",
    "add1=lambda x,y:x+y\n",
    "functools.reduce(add1,numbers)"
   ]
  },
  {
   "cell_type": "code",
   "execution_count": 49,
   "metadata": {},
   "outputs": [
    {
     "data": {
      "text/plain": [
       "<itertools.accumulate at 0x296deccc388>"
      ]
     },
     "execution_count": 49,
     "metadata": {},
     "output_type": "execute_result"
    }
   ],
   "source": [
    "#addition program using accumulate function\n",
    "import itertools\n",
    "numbers=[6,14,26,5,10]\n",
    "itertools.accumulate(numbers,lambda x,y:x+y)"
   ]
  },
  {
   "cell_type": "code",
   "execution_count": null,
   "metadata": {},
   "outputs": [],
   "source": [
    "            FILTER METHOD\n",
    "    \n",
    "The filter() method filters the given sequence with the help of a function that tests each element in the sequence\n",
    "to be true or not.\n",
    "\n",
    "Syntax: filter(function, sequence)\n",
    "\n",
    "Parameters:\n",
    "    \n",
    "function: function that tests if each element of a \n",
    "sequence true or not.\n",
    "\n",
    "sequence: sequence which needs to be filtered, it can \n",
    "be sets, lists, tuples, or containers of any iterators.\n",
    "\n",
    "Returns:\n",
    "returns an iterator that is already filtered."
   ]
  },
  {
   "cell_type": "code",
   "execution_count": 2,
   "metadata": {},
   "outputs": [
    {
     "data": {
      "text/plain": [
       "[0, 1, 2, 3, 4, 5, 6, 7, 8, 9, 10, 11, 12, 13, 14, 15, 16, 17, 18, 19]"
      ]
     },
     "execution_count": 2,
     "metadata": {},
     "output_type": "execute_result"
    }
   ],
   "source": [
    "C=[i for i in range(20)]\n",
    "C"
   ]
  },
  {
   "cell_type": "code",
   "execution_count": 3,
   "metadata": {},
   "outputs": [
    {
     "data": {
      "text/plain": [
       "[11, 12, 13, 14, 15, 16, 17, 18, 19]"
      ]
     },
     "execution_count": 3,
     "metadata": {},
     "output_type": "execute_result"
    }
   ],
   "source": [
    "#To find the numbers greater than 10 from the container\n",
    "greater=lambda x:x>10\n",
    "list(filter(greater,C))"
   ]
  },
  {
   "cell_type": "code",
   "execution_count": 4,
   "metadata": {},
   "outputs": [
    {
     "data": {
      "text/plain": [
       "[1, 3, 5, 7, 9, 11, 13, 15, 17, 19]"
      ]
     },
     "execution_count": 4,
     "metadata": {},
     "output_type": "execute_result"
    }
   ],
   "source": [
    "#Getting the odd numbers from the container\n",
    "odd=lambda x:x%2\n",
    "list(filter(odd,C))"
   ]
  },
  {
   "cell_type": "code",
   "execution_count": 5,
   "metadata": {},
   "outputs": [
    {
     "data": {
      "text/plain": [
       "[0, 2, 4, 6, 8, 10, 12, 14, 16, 18]"
      ]
     },
     "execution_count": 5,
     "metadata": {},
     "output_type": "execute_result"
    }
   ],
   "source": [
    "#Getting the even numbers from the container\n",
    "even=lambda x:x%2==0\n",
    "list(filter(even,C))"
   ]
  },
  {
   "cell_type": "code",
   "execution_count": 6,
   "metadata": {},
   "outputs": [
    {
     "data": {
      "text/plain": [
       "'C:\\\\Users\\\\reship\\\\Anaconda3;C:\\\\Users\\\\reship\\\\Anaconda3\\\\Library\\\\mingw-w64\\\\bin;C:\\\\Users\\\\reship\\\\Anaconda3\\\\Library\\\\usr\\\\bin;C:\\\\Users\\\\reship\\\\Anaconda3\\\\Library\\\\bin;C:\\\\Users\\\\reship\\\\Anaconda3\\\\Scripts;C:\\\\Program Files (x86)\\\\Common Files\\\\Oracle\\\\Java\\\\javapath;C:\\\\Program Files\\\\itacsvc;C:\\\\WINDOWS\\\\system32;C:\\\\WINDOWS;C:\\\\WINDOWS\\\\System32\\\\Wbem;C:\\\\WINDOWS\\\\System32\\\\WindowsPowerShell\\\\v1.0\\\\;C:\\\\WINDOWS\\\\System32\\\\OpenSSH\\\\;C:\\\\Program Files (x86)\\\\PuTTY\\\\;C:\\\\Program Files (x86)\\\\ACMEGuardian\\\\;C:\\\\Program Files (x86)\\\\Quarantine\\\\;C:\\\\Users\\\\reship\\\\Anaconda3;C:\\\\Users\\\\reship\\\\Anaconda3\\\\Library\\\\mingw-w64\\\\bin;C:\\\\Users\\\\reship\\\\Anaconda3\\\\Library\\\\usr\\\\bin;C:\\\\Users\\\\reship\\\\Anaconda3\\\\Library\\\\bin;C:\\\\Users\\\\reship\\\\Anaconda3\\\\Scripts;C:\\\\Users\\\\reship\\\\AppData\\\\Local\\\\Microsoft\\\\WindowsApps'"
      ]
     },
     "execution_count": 6,
     "metadata": {},
     "output_type": "execute_result"
    }
   ],
   "source": [
    "import os\n",
    "os.environ['PATH']"
   ]
  },
  {
   "cell_type": "code",
   "execution_count": 19,
   "metadata": {},
   "outputs": [
    {
     "name": "stdout",
     "output_type": "stream",
     "text": [
      "{'G': 1, 'A': 3, 'R': 2, 'Y': 2, 'K': 1, 'I': 1, 'S': 1, 'C': 1, 'T': 1, 'H': 2, 'J': 1, 'O': 1, 'N': 1, 'L': 1, 'E': 1, 'X': 1}\n"
     ]
    }
   ],
   "source": [
    "#Write a function using variable number of parameters concept to count the number of occurances of\n",
    "#each character in a given bunch of strings.\n",
    "\n",
    "#Note: Function returns a dictionary\n",
    "\n",
    "#INPUT: (\"Gary\", \"Kris\", \"Cathy\", \"John\", \"Alex\")\n",
    "#OUTPUT: {'I': 1, 'K': 1, 'R': 2, 'N': 1, 'E': 1, 'H': 2, 'X': 1, 'O': 1, 'C': 1, 'S': 1, 'T': 1, 'A': 3, 'J': 1,\n",
    "#'L': 1, 'Y': 2, 'G': 1}\n",
    "\n",
    "\n",
    "\n",
    "def countchars(*args):\n",
    "    chardict={}\n",
    "    \n",
    "    for word in args:\n",
    "        for char in word:\n",
    "            char=char.upper()\n",
    "            if(char in chardict):\n",
    "                chardict[char]=chardict[char]+1\n",
    "            else:\n",
    "                chardict[char]=1\n",
    "                \n",
    "    return chardict\n",
    "\n",
    "count=countchars(\"Gary\", \"Kris\", \"Cathy\", \"John\", \"Alex\")\n",
    "print(count)\n"
   ]
  },
  {
   "cell_type": "code",
   "execution_count": 20,
   "metadata": {},
   "outputs": [
    {
     "name": "stdout",
     "output_type": "stream",
     "text": [
      "[5, 7, 9, 11, 13, 15, 17, 19, 21, 23, 25, 27, 29]\n"
     ]
    }
   ],
   "source": [
    "#Write myRange function, that takes one, two or three parameters and produces numerical sequences,\n",
    "#just like Python's range function.\n",
    "\n",
    "#Note: This function will return a range object. We have to use list() function to see the contents:\n",
    "\n",
    "def myRange(*args):\n",
    "    start=stop=step=0\n",
    "    if(len(args)==3):\n",
    "        start=args[0]\n",
    "        stop=args[1]\n",
    "        step=args[2]\n",
    "        \n",
    "    elif(len(args)==2):\n",
    "        start=args[0]\n",
    "        stop=args[1]\n",
    "        step=1\n",
    "        \n",
    "    else:\n",
    "        start=0\n",
    "        stop=args[0]\n",
    "        step=1\n",
    "        \n",
    "    i=start\n",
    "    while(i<stop):\n",
    "        yield i\n",
    "        i=i+step\n",
    "        \n",
    "A=myRange(5,30,2)\n",
    "print(list(A))\n",
    "        \n",
    "        \n",
    "    \n"
   ]
  },
  {
   "cell_type": "code",
   "execution_count": 19,
   "metadata": {},
   "outputs": [
    {
     "name": "stdout",
     "output_type": "stream",
     "text": [
      "[5, 6, 7, 8, 9, 10, 11, 12, 13, 14, 15, 16, 17, 18, 19, 20, 21, 22, 23, 24, 25, 26, 27, 28, 29, 30, 31, 32, 33, 34, 35, 36, 37, 38, 39]\n"
     ]
    }
   ],
   "source": [
    "def myRange(*args):\n",
    "    start=stop=step=0\n",
    "    \n",
    "    if(len(args)==2):\n",
    "        start=args[0]\n",
    "        stop=args[1]\n",
    "        step=1\n",
    "        \n",
    "    else:\n",
    "        start=0\n",
    "        stop=args[0]\n",
    "        step=1\n",
    "        \n",
    "    i=start\n",
    "    while(i<stop):\n",
    "        yield i\n",
    "        i=i+step\n",
    "        \n",
    "A=myRange(5,40)\n",
    "print(list(A))\n",
    "    "
   ]
  },
  {
   "cell_type": "code",
   "execution_count": 18,
   "metadata": {},
   "outputs": [
    {
     "name": "stdout",
     "output_type": "stream",
     "text": [
      "[0, 1, 2, 3, 4]\n"
     ]
    }
   ],
   "source": [
    "def myRange(*args):\n",
    "    start=stop=step=0\n",
    "    \n",
    "    if(len(args)==2):\n",
    "        start=args[0]\n",
    "        stop=args[1]\n",
    "        step=1\n",
    "        \n",
    "    elif(len(args)==1):\n",
    "        start=0\n",
    "        stop=args[0]\n",
    "        step=1\n",
    "        \n",
    "    i=start\n",
    "    while(i<stop):\n",
    "        yield i\n",
    "        i=i+step\n",
    "        \n",
    "A=myRange(5)\n",
    "print(list(A))"
   ]
  },
  {
   "cell_type": "code",
   "execution_count": null,
   "metadata": {},
   "outputs": [],
   "source": []
  },
  {
   "cell_type": "code",
   "execution_count": null,
   "metadata": {},
   "outputs": [],
   "source": []
  },
  {
   "cell_type": "code",
   "execution_count": null,
   "metadata": {},
   "outputs": [],
   "source": []
  },
  {
   "cell_type": "code",
   "execution_count": null,
   "metadata": {},
   "outputs": [],
   "source": []
  },
  {
   "cell_type": "code",
   "execution_count": null,
   "metadata": {},
   "outputs": [],
   "source": []
  },
  {
   "cell_type": "code",
   "execution_count": null,
   "metadata": {},
   "outputs": [],
   "source": []
  },
  {
   "cell_type": "code",
   "execution_count": null,
   "metadata": {},
   "outputs": [],
   "source": []
  },
  {
   "cell_type": "code",
   "execution_count": null,
   "metadata": {},
   "outputs": [],
   "source": []
  },
  {
   "cell_type": "code",
   "execution_count": null,
   "metadata": {},
   "outputs": [],
   "source": []
  },
  {
   "cell_type": "code",
   "execution_count": null,
   "metadata": {},
   "outputs": [],
   "source": []
  },
  {
   "cell_type": "code",
   "execution_count": null,
   "metadata": {},
   "outputs": [],
   "source": []
  },
  {
   "cell_type": "code",
   "execution_count": null,
   "metadata": {},
   "outputs": [],
   "source": []
  },
  {
   "cell_type": "code",
   "execution_count": null,
   "metadata": {},
   "outputs": [],
   "source": []
  },
  {
   "cell_type": "code",
   "execution_count": null,
   "metadata": {},
   "outputs": [],
   "source": []
  },
  {
   "cell_type": "code",
   "execution_count": null,
   "metadata": {},
   "outputs": [],
   "source": []
  },
  {
   "cell_type": "code",
   "execution_count": null,
   "metadata": {},
   "outputs": [],
   "source": []
  },
  {
   "cell_type": "code",
   "execution_count": null,
   "metadata": {},
   "outputs": [],
   "source": []
  },
  {
   "cell_type": "code",
   "execution_count": null,
   "metadata": {},
   "outputs": [],
   "source": []
  },
  {
   "cell_type": "code",
   "execution_count": null,
   "metadata": {},
   "outputs": [],
   "source": []
  },
  {
   "cell_type": "code",
   "execution_count": null,
   "metadata": {},
   "outputs": [],
   "source": []
  }
 ],
 "metadata": {
  "kernelspec": {
   "display_name": "Python 3",
   "language": "python",
   "name": "python3"
  },
  "language_info": {
   "codemirror_mode": {
    "name": "ipython",
    "version": 3
   },
   "file_extension": ".py",
   "mimetype": "text/x-python",
   "name": "python",
   "nbconvert_exporter": "python",
   "pygments_lexer": "ipython3",
   "version": "3.7.6"
  }
 },
 "nbformat": 4,
 "nbformat_minor": 4
}
