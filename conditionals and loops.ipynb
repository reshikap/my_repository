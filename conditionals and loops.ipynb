{
 "cells": [
  {
   "cell_type": "code",
   "execution_count": 4,
   "metadata": {},
   "outputs": [
    {
     "name": "stdout",
     "output_type": "stream",
     "text": [
      "the current grade= B\n"
     ]
    }
   ],
   "source": [
    "#if else to print the grade\n",
    "score = 85\n",
    "if(score>=90):\n",
    "    grade='A'\n",
    "else:  \n",
    "    grade='B'\n",
    "    \n",
    "print('the current grade=',grade)   "
   ]
  },
  {
   "cell_type": "code",
   "execution_count": 5,
   "metadata": {},
   "outputs": [
    {
     "name": "stdout",
     "output_type": "stream",
     "text": [
      "the current grade= C\n"
     ]
    }
   ],
   "source": [
    "#if elif else\n",
    "score = 70\n",
    "if(score>=90): grade='A'\n",
    "elif(score>=80): grade='B'\n",
    "elif(score>=70): grade='C'\n",
    "else: grade='D'\n",
    "    \n",
    "print('the current grade=',grade)    \n",
    "    "
   ]
  },
  {
   "cell_type": "code",
   "execution_count": 9,
   "metadata": {},
   "outputs": [
    {
     "name": "stdout",
     "output_type": "stream",
     "text": [
      "1 2 3 4 5 6 7 8 9 10 11 12 13 14 15 16 17 18 19 20 21 22 23 24 25 26 27 28 29 30 31 32 33 34 35 36 37 38 39 40 41 42 43 44 45 46 47 48 49 50 51 52 53 54 55 56 57 58 59 60 61 62 63 64 65 66 67 68 69 70 71 72 73 74 75 76 77 78 79 80 81 82 83 84 85 86 87 88 89 90 91 92 93 94 95 96 97 98 99 100 "
     ]
    }
   ],
   "source": [
    "#while loop to print the numbers from 1 to 100\n",
    "n=1\n",
    "\n",
    "while(n<=100):\n",
    "    print(n,end=' ')\n",
    "    n=n+1"
   ]
  },
  {
   "cell_type": "code",
   "execution_count": 8,
   "metadata": {},
   "outputs": [
    {
     "name": "stdout",
     "output_type": "stream",
     "text": [
      "2 4 6 8 10 12 14 16 18 20 22 24 26 28 30 32 34 36 38 40 42 44 46 48 50 52 54 56 58 60 62 64 66 68 70 72 74 76 78 80 82 84 86 88 90 92 94 96 98 100 "
     ]
    }
   ],
   "source": [
    "# using if condition to print the even numbers from 1 to 100\n",
    "n=1\n",
    "\n",
    "while(n<=100):\n",
    "    if(n%2==0):\n",
    "        print(n,end=' ')\n",
    "    n=n+1"
   ]
  },
  {
   "cell_type": "code",
   "execution_count": 10,
   "metadata": {},
   "outputs": [
    {
     "name": "stdout",
     "output_type": "stream",
     "text": [
      "[10, 20, 30, 40, 50, 60, 70, 80, 90, 100]\n"
     ]
    }
   ],
   "source": [
    "# USING WHILE LOOP TO PRINT THE NUMBERS FROM 1 TO 100 AND APPENDING TO A LIST\n",
    "n=1\n",
    "A=[]\n",
    "\n",
    "while(n<=100):\n",
    "    if(n%10==0):\n",
    "        A.append(n)\n",
    "    n=n+1\n",
    "print(A)   "
   ]
  },
  {
   "cell_type": "code",
   "execution_count": null,
   "metadata": {},
   "outputs": [],
   "source": [
    "#print square of numbers from 1 to 100 using while loop"
   ]
  },
  {
   "cell_type": "code",
   "execution_count": 14,
   "metadata": {},
   "outputs": [
    {
     "name": "stdout",
     "output_type": "stream",
     "text": [
      "1 4 9 16 25 36 49 64 81 100 121 144 169 196 225 256 289 324 361 400 441 484 529 576 625 676 729 784 841 900 961 1024 1089 1156 1225 1296 1369 1444 1521 1600 1681 1764 1849 1936 2025 2116 2209 2304 2401 2500 2601 2704 2809 2916 3025 3136 3249 3364 3481 3600 3721 3844 3969 4096 4225 4356 4489 4624 4761 4900 5041 5184 5329 5476 5625 5776 5929 6084 6241 6400 6561 6724 6889 7056 7225 7396 7569 7744 7921 8100 8281 8464 8649 8836 9025 9216 9409 9604 9801 10000 "
     ]
    }
   ],
   "source": [
    "n=1\n",
    "while(n<=100):\n",
    "    sq=n**2\n",
    "    n=n+1\n",
    "    print(sq,end=' ')"
   ]
  },
  {
   "cell_type": "code",
   "execution_count": 23,
   "metadata": {},
   "outputs": [
    {
     "name": "stdout",
     "output_type": "stream",
     "text": [
      "1 2 3 4 "
     ]
    }
   ],
   "source": [
    "#FOR LOOP\n",
    "A=(1,2,3,4)\n",
    "for x in A:\n",
    "    print(x,end=' ')"
   ]
  },
  {
   "cell_type": "code",
   "execution_count": 37,
   "metadata": {},
   "outputs": [
    {
     "name": "stdout",
     "output_type": "stream",
     "text": [
      "dict_keys(['john', 'mary', 'charles']) dict_values([23, 12, 40])\n"
     ]
    }
   ],
   "source": [
    "#print the dictionary keys and values \n",
    "d={'john': 23 , 'mary': 12, 'charles': 40}\n",
    "print(d.keys(),d.values())"
   ]
  },
  {
   "cell_type": "code",
   "execution_count": 44,
   "metadata": {},
   "outputs": [
    {
     "name": "stdout",
     "output_type": "stream",
     "text": [
      "john 23\n",
      "mary 12\n",
      "charles 40\n"
     ]
    }
   ],
   "source": [
    "#print the dictionary keys and values using for loop\n",
    "dictionary={'john': 23 , 'mary': 12, 'charles': 40}\n",
    "for dict in dictionary:\n",
    "    print(dict,dictionary[dict])"
   ]
  },
  {
   "cell_type": "code",
   "execution_count": null,
   "metadata": {},
   "outputs": [],
   "source": [
    "# print the string using for loop\n",
    "string='hello world'\n",
    "for s in string:\n",
    "    print(s,end=' ')"
   ]
  },
  {
   "cell_type": "code",
   "execution_count": 1,
   "metadata": {},
   "outputs": [
    {
     "name": "stdout",
     "output_type": "stream",
     "text": [
      "helloworld"
     ]
    }
   ],
   "source": [
    "#print the string using for loop without space \n",
    "string='hello world'\n",
    "for s in string:\n",
    "    if(s!=' '):\n",
    "        print(s,end='')"
   ]
  },
  {
   "cell_type": "code",
   "execution_count": 61,
   "metadata": {},
   "outputs": [
    {
     "name": "stdout",
     "output_type": "stream",
     "text": [
      "hhhhh eeeee lllll lllll ooooo wwwww ooooo rrrrr lllll ddddd "
     ]
    }
   ],
   "source": [
    "#print the string using for loop, each letter of the string should be printed five times\n",
    "string='hello world'\n",
    "for s in string:\n",
    "    if(s!=' '):\n",
    "        print(s*5,end=' ')"
   ]
  },
  {
   "cell_type": "code",
   "execution_count": 2,
   "metadata": {},
   "outputs": [
    {
     "name": "stdout",
     "output_type": "stream",
     "text": [
      "H e l l o W o r l d \n",
      "H e l l o "
     ]
    }
   ],
   "source": [
    "#print the string using break and continue statements without printing space(using while loop)\n",
    "#continue- goes to the beginning of the loop\n",
    "#break- goes out of the loop(terminates)\n",
    "#print()- prints in a new line(to separate two programs)\n",
    "s=\"Hello World\"\n",
    "\n",
    "x=0\n",
    "while(x<len(s)):\n",
    "    if(s[x]==' '):\n",
    "        x=x+1\n",
    "        continue \n",
    "    print(s[x],end=' ')\n",
    "    x=x+1\n",
    " \n",
    "print()\n",
    "\n",
    "s='Hello World'\n",
    "\n",
    "x=0\n",
    "while(x<len(s)):\n",
    "    if(s[x]==' '):\n",
    "        x=x+1\n",
    "        break\n",
    "    print(s[x],end=' ')\n",
    "    x=x+1\n",
    "    \n"
   ]
  },
  {
   "cell_type": "code",
   "execution_count": 23,
   "metadata": {},
   "outputs": [
    {
     "name": "stdout",
     "output_type": "stream",
     "text": [
      "11\n"
     ]
    }
   ],
   "source": [
    "# to print the string's length\n",
    "s=\"Hello World\"\n",
    "print(len(s))"
   ]
  },
  {
   "cell_type": "code",
   "execution_count": 28,
   "metadata": {},
   "outputs": [
    {
     "name": "stdout",
     "output_type": "stream",
     "text": [
      "H e l l o W o r l d \n",
      "H e l l o "
     ]
    }
   ],
   "source": [
    "#print the string using break and continue statements without printing space(using for loop)\n",
    "string=\"Hello World\"\n",
    "\n",
    "for char in string:\n",
    "    if(char==' '):\n",
    "        continue\n",
    "    print(char,end=' ')\n",
    "    \n",
    "print() \n",
    "\n",
    "string='Hello World'\n",
    "\n",
    "for char in string:\n",
    "    if(char==' '):\n",
    "        break\n",
    "    print(char,end=' ')\n",
    "    \n",
    "    "
   ]
  },
  {
   "cell_type": "code",
   "execution_count": 38,
   "metadata": {},
   "outputs": [
    {
     "name": "stdout",
     "output_type": "stream",
     "text": [
      "H e l l o   W o r l d \n",
      "done\n"
     ]
    }
   ],
   "source": [
    "string=\"Hello World\"\n",
    "\n",
    "for char in string:\n",
    "    print(char,end=' ')\n",
    "\n",
    "else:\n",
    "    print(\"\\ndone\")"
   ]
  },
  {
   "cell_type": "code",
   "execution_count": 1,
   "metadata": {},
   "outputs": [
    {
     "data": {
      "text/plain": [
       "range"
      ]
     },
     "execution_count": 1,
     "metadata": {},
     "output_type": "execute_result"
    }
   ],
   "source": [
    "#range function\n",
    "#range ignores the upper bound value\n",
    "#range(start)->range(10)\n",
    "#range(start,stop)->range(5,10)\n",
    "#range(start,stop,end)->range(5,50,4)\n",
    "\n",
    "x=range(10)\n",
    "type(x)"
   ]
  },
  {
   "cell_type": "code",
   "execution_count": 2,
   "metadata": {},
   "outputs": [
    {
     "data": {
      "text/plain": [
       "[0, 1, 2, 3, 4, 5, 6, 7, 8, 9]"
      ]
     },
     "execution_count": 2,
     "metadata": {},
     "output_type": "execute_result"
    }
   ],
   "source": [
    "list(x)"
   ]
  },
  {
   "cell_type": "code",
   "execution_count": 3,
   "metadata": {},
   "outputs": [],
   "source": [
    "x=range(6,70,10)"
   ]
  },
  {
   "cell_type": "code",
   "execution_count": 4,
   "metadata": {},
   "outputs": [
    {
     "data": {
      "text/plain": [
       "[6, 16, 26, 36, 46, 56, 66]"
      ]
     },
     "execution_count": 4,
     "metadata": {},
     "output_type": "execute_result"
    }
   ],
   "source": [
    "list(x)"
   ]
  },
  {
   "cell_type": "code",
   "execution_count": 22,
   "metadata": {},
   "outputs": [
    {
     "name": "stdout",
     "output_type": "stream",
     "text": [
      "2 4 6 8 10 12 14 16 18 20 22 24 26 28 30 32 34 36 38 40 42 44 46 48 50 52 54 56 58 60 62 64 66 68 70 72 74 76 78 80 82 84 86 88 90 92 94 96 98 "
     ]
    }
   ],
   "source": [
    "#for loop to print even numbers upto 100\n",
    "\n",
    "for even in range(1,100):\n",
    "    if(even%2==0):\n",
    "        print(even,end=' ')"
   ]
  },
  {
   "cell_type": "code",
   "execution_count": 23,
   "metadata": {},
   "outputs": [
    {
     "name": "stdout",
     "output_type": "stream",
     "text": [
      "2 4 6 8 10 12 14 16 18 20 22 24 26 28 30 32 34 36 38 40 42 44 46 48 50 52 54 56 58 60 62 64 66 68 70 72 74 76 78 80 82 84 86 88 90 92 94 96 98 "
     ]
    }
   ],
   "source": [
    "#for loop to print even numbers upto 99\n",
    "\n",
    "for even in range(1,99):\n",
    "    if(even%2==0):\n",
    "        print(even,end=' ')\n",
    "        "
   ]
  },
  {
   "cell_type": "code",
   "execution_count": 24,
   "metadata": {},
   "outputs": [
    {
     "name": "stdout",
     "output_type": "stream",
     "text": [
      "1 3 5 7 9 11 13 15 17 19 21 23 25 27 29 31 33 35 37 39 41 43 45 47 49 51 53 55 57 59 61 63 65 67 69 71 73 75 77 79 81 83 85 87 89 91 93 95 97 "
     ]
    }
   ],
   "source": [
    "#for loop to print odd numbers upto 99\n",
    "\n",
    "for odd in range(1,99):\n",
    "    if(odd%2!=0):\n",
    "        print(odd,end=' ')"
   ]
  },
  {
   "cell_type": "code",
   "execution_count": 25,
   "metadata": {},
   "outputs": [
    {
     "name": "stdout",
     "output_type": "stream",
     "text": [
      "100 98 96 94 92 90 88 86 84 82 80 78 76 74 72 70 68 66 64 62 60 58 56 54 52 50 48 46 44 42 40 38 36 34 32 30 28 26 24 22 20 18 16 14 12 10 8 6 4 "
     ]
    }
   ],
   "source": [
    "#for loop to print even numbers from 100 to 2\n",
    "\n",
    "for even in range(100,2,-1):\n",
    "    if(even%2==0):\n",
    "        print(even,end=' ')"
   ]
  },
  {
   "cell_type": "code",
   "execution_count": 26,
   "metadata": {},
   "outputs": [
    {
     "name": "stdout",
     "output_type": "stream",
     "text": [
      "98 96 94 92 90 88 86 84 82 80 78 76 74 72 70 68 66 64 62 60 58 56 54 52 50 48 46 44 42 40 38 36 34 32 30 28 26 24 22 20 18 16 14 12 10 8 6 4 2 "
     ]
    }
   ],
   "source": [
    "#for loop to print even numbers from 99 to 1\n",
    "\n",
    "for even in range(99,1,-1):\n",
    "    if(even%2==0):\n",
    "        print(even,end=' ')"
   ]
  },
  {
   "cell_type": "code",
   "execution_count": 27,
   "metadata": {},
   "outputs": [
    {
     "name": "stdout",
     "output_type": "stream",
     "text": [
      "99 97 95 93 91 89 87 85 83 81 79 77 75 73 71 69 67 65 63 61 59 57 55 53 51 49 47 45 43 41 39 37 35 33 31 29 27 25 23 21 19 17 15 13 11 9 7 5 3 "
     ]
    }
   ],
   "source": [
    "#for loop to print odd numbers from 99 to 1\n",
    "\n",
    "for odd in range(99,1,-1):\n",
    "    if(odd%2!=0):\n",
    "        print(odd,end=' ')\n",
    "    "
   ]
  }
 ],
 "metadata": {
  "kernelspec": {
   "display_name": "Python 3",
   "language": "python",
   "name": "python3"
  },
  "language_info": {
   "codemirror_mode": {
    "name": "ipython",
    "version": 3
   },
   "file_extension": ".py",
   "mimetype": "text/x-python",
   "name": "python",
   "nbconvert_exporter": "python",
   "pygments_lexer": "ipython3",
   "version": "3.7.6"
  }
 },
 "nbformat": 4,
 "nbformat_minor": 4
}
