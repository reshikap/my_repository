{
 "cells": [
  {
   "cell_type": "markdown",
   "metadata": {},
   "source": [
    "CLASSES AND OBJECTS\n",
    "\n",
    "What are classes and objects in Python(refer this website: https://www.programiz.com/python-programming/class)"
   ]
  },
  {
   "cell_type": "markdown",
   "metadata": {},
   "source": [
    "Use of self:  The self is used to represent the instance of the class. With this keyword, \n",
    "you can access the attributes and methods of the class in python.It binds the attributes with the given arguments\n",
    "\n",
    "Use of __init__:  __init__ is one of the reserved methods in Python. \n",
    "In object oriented programming, it is known as a constructor.\n",
    "The __init__ method can be called when an object is created from the class, \n",
    "and access is required to initialize the attributes of the class.\n",
    "\n",
    "Use of __str__:  The __str__ method is useful for a string representation of the object, \n",
    "either when someone codes in str(your_object) , or even when someone might do print(your_object) . \n",
    "The __str__ method is one that should be the most human-readable possible, \n",
    "yet also descriptive of that exact object\n",
    "\n",
    "Constructors: Constructors are for instantiating an object. \n",
    "The task of constructors is to initialize the data members of the class when an object of class is created. \n",
    "The __init__() method is called the constructor in Python and is always called when an object is created."
   ]
  },
  {
   "cell_type": "code",
   "execution_count": 12,
   "metadata": {},
   "outputs": [
    {
     "name": "stdout",
     "output_type": "stream",
     "text": [
      "John--20\n",
      "Gary--18\n",
      "Gary--19\n"
     ]
    }
   ],
   "source": [
    "class Person:\n",
    "    \n",
    "    def __init__(self,name,age):\n",
    "        self.name=name\n",
    "        self.age=age\n",
    "    \n",
    "    \n",
    "    def changeAge(self,age):\n",
    "        self.age=age\n",
    "        \n",
    "    def __str__(self):\n",
    "        return self.name+\"--\"+str(self.age)\n",
    "    \n",
    "    \n",
    "p1=Person(\"John\",20)\n",
    "print(p1)\n",
    "\n",
    "p2=Person(\"Gary\",18)\n",
    "print(p2)\n",
    "\n",
    "p2.changeAge(19)\n",
    "print(p2)\n",
    "\n",
    "    \n",
    "    "
   ]
  },
  {
   "cell_type": "code",
   "execution_count": 1,
   "metadata": {},
   "outputs": [
    {
     "name": "stdout",
     "output_type": "stream",
     "text": [
      "John--20\n",
      "1\n",
      "Gary--18\n",
      "2\n",
      "Gary--19\n",
      "2\n"
     ]
    }
   ],
   "source": [
    "# to create a count object to see how many times the object is been created\n",
    "\n",
    "class Person:\n",
    "    \n",
    "    count=0\n",
    "    \n",
    "    def __init__(self,name,age):\n",
    "        self.name=name\n",
    "        self.age=age\n",
    "        Person.count+=1\n",
    "    \n",
    "    \n",
    "    def changeAge(self,age):\n",
    "        self.age=age\n",
    "        \n",
    "    def getCount(self):\n",
    "        return Person.count\n",
    "        \n",
    "    def __str__(self):\n",
    "        return self.name+\"--\"+str(self.age)\n",
    "    \n",
    "    \n",
    "p1=Person(\"John\",20)\n",
    "print(p1)\n",
    "print(p1.getCount())\n",
    "\n",
    "p2=Person(\"Gary\",18)\n",
    "print(p2)\n",
    "print(p2.getCount())\n",
    "\n",
    "p2.changeAge(19)\n",
    "print(p2)\n",
    "print(p2.getCount())"
   ]
  },
  {
   "cell_type": "markdown",
   "metadata": {},
   "source": [
    "INHERITANCE:\n",
    "    \n",
    "    Inheritance allows us to define a class that inherits all the methods and properties from another class.\n",
    "Child class is the class that inherits from another class, also called derived class."
   ]
  },
  {
   "cell_type": "code",
   "execution_count": 2,
   "metadata": {},
   "outputs": [
    {
     "name": "stdout",
     "output_type": "stream",
     "text": [
      "John--20--10--6.6\n",
      "John--20--10--6.8\n",
      "John--13--10--6.8\n"
     ]
    }
   ],
   "source": [
    "class Person:\n",
    "    \n",
    "    def __init__(self,name,age):\n",
    "        self.name=name\n",
    "        self.age=age\n",
    "    \n",
    "    \n",
    "    def changeAge(self,age):\n",
    "        self.age=age\n",
    "        \n",
    "    def __str__(self):\n",
    "        return self.name+\"--\"+str(self.age)\n",
    "    \n",
    "#----------------------------------\n",
    "class Student(Person):\n",
    "    \n",
    "    def __init__(self,name,age,grade,gpa):\n",
    "        Person.__init__(self,name,age)\n",
    "        self.grade= grade\n",
    "        self.gpa= gpa\n",
    "        \n",
    "    def changeGpa(self,gpa):\n",
    "        self.gpa=gpa\n",
    "                \n",
    "    def __str__(self):\n",
    "        return Person.__str__(self)+'--'+str(self.grade)+'--'+str(self.gpa)\n",
    "\n",
    "        \n",
    "s1= Student('John',20,10,6.6)\n",
    "print(s1)\n",
    "        \n",
    "s1.changeGpa(6.8)\n",
    "print(s1)\n",
    "    \n",
    "s1.changeAge(13)\n",
    "print(s1)\n",
    "\n",
    "        "
   ]
  },
  {
   "cell_type": "markdown",
   "metadata": {},
   "source": [
    "MULTIPLE INHERITANCE"
   ]
  },
  {
   "cell_type": "code",
   "execution_count": 12,
   "metadata": {},
   "outputs": [
    {
     "name": "stdout",
     "output_type": "stream",
     "text": [
      "Joe---40---California---NewYork---10---8.9\n",
      "Madan---30---Princeton---New Jersey---8---10.0\n"
     ]
    }
   ],
   "source": [
    "class Person:\n",
    "    \n",
    "    def __init__(self,name,age):\n",
    "        self.name=name\n",
    "        self.age=age\n",
    "        \n",
    "    def changeAge(self,age):\n",
    "        self.age=age\n",
    "        \n",
    "    def __str__(self):\n",
    "        return self.name+\"---\"+str(self.age)\n",
    "    \n",
    "#-------------------------------------------------    \n",
    "    \n",
    "class Addr:\n",
    "    \n",
    "    def __init__(self,city,state):\n",
    "        self.city=city\n",
    "        self.state=state\n",
    "        \n",
    "    def changeCity(self,city):\n",
    "        self.city=city\n",
    "        \n",
    "    def __str__(self):\n",
    "        return self.city+\"---\"+self.state\n",
    "    \n",
    "    \n",
    "#------------------------------------------------------\n",
    "\n",
    "class Student(Person,Addr):\n",
    "    \n",
    "    def __init__(self,name,age,city,state,grade,gpa):\n",
    "        Person.__init__(self,name,age)\n",
    "        Addr.__init__(self,city,state)\n",
    "        self.grade=grade\n",
    "        self.gpa=gpa\n",
    "        \n",
    "    def changegpa(self,gpa):\n",
    "        self.gpa=gpa\n",
    "        \n",
    "    def __str__(self):\n",
    "        return Person.__str__(self)+\"---\"+Addr.__str__(self)+\"---\"+str(self.grade)+\"---\"+str(self.gpa)\n",
    "    \n",
    "    \n",
    "s1= Student(\"Joe\",40,\"California\",\"NewYork\",10,8.9)\n",
    "print(s1)\n",
    "    \n",
    "s2= Student(\"Madan\",30,\"Princeton\",\"New Jersey\",8, 10.0)\n",
    "print(s2)\n",
    "        "
   ]
  },
  {
   "cell_type": "code",
   "execution_count": 18,
   "metadata": {},
   "outputs": [
    {
     "name": "stdout",
     "output_type": "stream",
     "text": [
      "Joe---40---California---NewYork---10---8.9\n",
      "Madan---30---Princeton---New Jersey---8---10.0\n",
      "Joe---40---Texas---NewYork---10---8.9\n",
      "Madan---40---Princeton---New Jersey---8---10.0\n"
     ]
    }
   ],
   "source": [
    "class Person:\n",
    "    \n",
    "    def __init__(self,name,age):\n",
    "        self.name=name\n",
    "        self.age=age\n",
    "        \n",
    "    def changeAge(self,age):\n",
    "        self.age=age\n",
    "        \n",
    "    def __str__(self):\n",
    "        return self.name+\"---\"+str(self.age)\n",
    "    \n",
    "#-------------------------------------------------    \n",
    "    \n",
    "class Addr:\n",
    "    \n",
    "    def __init__(self,city,state):\n",
    "        self.city=city\n",
    "        self.state=state\n",
    "        \n",
    "    def changeCity(self,city):\n",
    "        self.city=city\n",
    "        \n",
    "    def __str__(self):\n",
    "        return self.city+\"---\"+self.state\n",
    "    \n",
    "    \n",
    "#------------------------------------------------------\n",
    "\n",
    "class Student(Person,Addr):\n",
    "    \n",
    "    def __init__(self,name,age,city,state,grade,gpa):\n",
    "        Person.__init__(self,name,age)\n",
    "        Addr.__init__(self,city,state)\n",
    "        self.grade=grade\n",
    "        self.gpa=gpa\n",
    "        \n",
    "    def changegpa(self,gpa):\n",
    "        self.gpa=gpa\n",
    "        \n",
    "#METHOD OVERRIDING: Overriding is the property of a class to change the implementation of a method provided by \n",
    "#one of its base classes. Method overriding is thus a part of the inheritance mechanism. \n",
    "#In Python method overriding occurs by simply defining in the child class a method with the same name of a method \n",
    "#in the parent class.        \n",
    "        \n",
    "    def changeAge(self,age):\n",
    "        self.age=age+10\n",
    "        \n",
    "    def __str__(self):\n",
    "        return Person.__str__(self)+\"---\"+Addr.__str__(self)+\"---\"+str(self.grade)+\"---\"+str(self.gpa)\n",
    "    \n",
    "    \n",
    "s1= Student(\"Joe\",40,\"California\",\"NewYork\",10,8.9)\n",
    "print(s1)\n",
    "    \n",
    "s2= Student(\"Madan\",30,\"Princeton\",\"New Jersey\",8, 10.0)\n",
    "print(s2)\n",
    "\n",
    "s1.changeCity(\"Texas\")\n",
    "print(s1)\n",
    "\n",
    "s2.changeAge(30)\n",
    "print(s2)"
   ]
  }
 ],
 "metadata": {
  "kernelspec": {
   "display_name": "Python 3",
   "language": "python",
   "name": "python3"
  },
  "language_info": {
   "codemirror_mode": {
    "name": "ipython",
    "version": 3
   },
   "file_extension": ".py",
   "mimetype": "text/x-python",
   "name": "python",
   "nbconvert_exporter": "python",
   "pygments_lexer": "ipython3",
   "version": "3.7.6"
  }
 },
 "nbformat": 4,
 "nbformat_minor": 4
}
